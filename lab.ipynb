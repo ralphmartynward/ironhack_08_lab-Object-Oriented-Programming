{
 "cells": [
  {
   "attachments": {},
   "cell_type": "markdown",
   "metadata": {},
   "source": [
    "# Lab | Object Oriented Programming"
   ]
  },
  {
   "attachments": {},
   "cell_type": "markdown",
   "metadata": {},
   "source": [
    "Constructor\n",
    "Crete a Python Tv class with a constructor and the following attributes:\n",
    "\n",
    ".on (Boolean)\n",
    "\n",
    ".volume (float in [0,100])\n",
    "\n",
    ".active_channel (int in [1,10])\n",
    "\n",
    ".input (str in [\"Anthena\", \"HDMI1\", \"HDMI2\", \"HDMI3\"])\n",
    "\n",
    ".size (float in [42, 50, 55, 65, 75])\n"
   ]
  },
  {
   "attachments": {},
   "cell_type": "markdown",
   "metadata": {},
   "source": [
    "Methods\n",
    "\n",
    ".switch_on()\n",
    "\n",
    ".switch_off()\n",
    "\n",
    ".set_volume(volume: int)\n",
    "\n",
    ".change_channel(channel: int)\n",
    "\n",
    ".set_input(value: str)\n",
    "\n",
    "\n",
    "Submission\n",
    "\n",
    "Upon completion, add your jupyter notebook to git. Then commit git and push your branch to the remote.\n",
    "\n",
    "\n",
    "\n",
    "Resources\n",
    "\n",
    "Classes in Python Tutorials"
   ]
  },
  {
   "cell_type": "code",
   "execution_count": 1,
   "metadata": {},
   "outputs": [],
   "source": [
    "class TV: \n",
    "    # Constructor\n",
    "    def __init__(self):\n",
    "        self.on = False\n",
    "        self.volume = 50.0\n",
    "        self.active_channel = 1\n",
    "        self.input = \"HDMI1\"\n",
    "        self.size = 42.0\n",
    "\n",
    "    # Methods\n",
    "    def switch_on(self):\n",
    "        self.on = True\n",
    "\n",
    "    def switch_off(self):\n",
    "        self.on = False\n",
    "\n",
    "    def set_volume(self, volume):\n",
    "        if 0 <= volume <= 100:\n",
    "            self.volume = volume\n",
    "        else:\n",
    "            raise ValueError(\"Volume must be between 0 and 100\")\n",
    "\n",
    "    def change_channel(self, channel):\n",
    "        if 1 <= channel <= 10:\n",
    "            self.active_channel = channel\n",
    "        else:\n",
    "            raise ValueError(\"Channel must be between 1 and 10\")\n",
    "\n",
    "    def set_input(self, value):\n",
    "        inputs = [\"Anthena\", \"HDMI1\", \"HDMI2\", \"HDMI3\"]\n",
    "        if value in inputs:\n",
    "            self.input = value\n",
    "        else:\n",
    "            raise ValueError(f\"Input must be one of {inputs}\")\n"
   ]
  },
  {
   "cell_type": "code",
   "execution_count": 7,
   "metadata": {},
   "outputs": [],
   "source": [
    "tv = TV()\n",
    "tv.switch_on()\n",
    "tv.set_volume(50)\n",
    "tv.change_channel(5)\n",
    "tv.set_input(\"HDMI1\")"
   ]
  },
  {
   "cell_type": "code",
   "execution_count": 8,
   "metadata": {},
   "outputs": [
    {
     "name": "stdout",
     "output_type": "stream",
     "text": [
      "On: True, Volume: 50, Channel: 5, Input: HDMI1\n"
     ]
    }
   ],
   "source": [
    "# print the state\n",
    "print(f\"On: {tv.on}, Volume: {tv.volume}, Channel: {tv.active_channel}, Input: {tv.input}\")\n"
   ]
  }
 ],
 "metadata": {
  "kernelspec": {
   "display_name": "base",
   "language": "python",
   "name": "python3"
  },
  "language_info": {
   "codemirror_mode": {
    "name": "ipython",
    "version": 3
   },
   "file_extension": ".py",
   "mimetype": "text/x-python",
   "name": "python",
   "nbconvert_exporter": "python",
   "pygments_lexer": "ipython3",
   "version": "3.9.13"
  },
  "orig_nbformat": 4
 },
 "nbformat": 4,
 "nbformat_minor": 2
}
